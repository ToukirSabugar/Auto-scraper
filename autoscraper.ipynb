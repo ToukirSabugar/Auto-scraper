{
  "nbformat": 4,
  "nbformat_minor": 0,
  "metadata": {
    "colab": {
      "provenance": [],
      "authorship_tag": "ABX9TyMgcXzHJ7drJZ3yeFtnUdEb",
      "include_colab_link": true
    },
    "kernelspec": {
      "name": "python3",
      "display_name": "Python 3"
    },
    "language_info": {
      "name": "python"
    }
  },
  "cells": [
    {
      "cell_type": "markdown",
      "metadata": {
        "id": "view-in-github",
        "colab_type": "text"
      },
      "source": [
        "<a href=\"https://colab.research.google.com/github/ToukirSabugar/Auto-scraper/blob/main/autoscraper.ipynb\" target=\"_parent\"><img src=\"https://colab.research.google.com/assets/colab-badge.svg\" alt=\"Open In Colab\"/></a>"
      ]
    },
    {
      "cell_type": "code",
      "execution_count": null,
      "metadata": {
        "id": "0KuCAHt3Aa6E",
        "colab": {
          "base_uri": "https://localhost:8080/"
        },
        "outputId": "95fb49c9-0cca-468d-e2f1-01a939eae574"
      },
      "outputs": [
        {
          "output_type": "stream",
          "name": "stdout",
          "text": [
            "Looking in indexes: https://pypi.org/simple, https://us-python.pkg.dev/colab-wheels/public/simple/\n",
            "Collecting autoscraper\n",
            "  Downloading autoscraper-1.1.14-py3-none-any.whl (10 kB)\n",
            "Requirement already satisfied: requests in /usr/local/lib/python3.10/dist-packages (from autoscraper) (2.27.1)\n",
            "Collecting bs4 (from autoscraper)\n",
            "  Downloading bs4-0.0.1.tar.gz (1.1 kB)\n",
            "  Preparing metadata (setup.py) ... \u001b[?25l\u001b[?25hdone\n",
            "Requirement already satisfied: lxml in /usr/local/lib/python3.10/dist-packages (from autoscraper) (4.9.2)\n",
            "Requirement already satisfied: beautifulsoup4 in /usr/local/lib/python3.10/dist-packages (from bs4->autoscraper) (4.11.2)\n",
            "Requirement already satisfied: urllib3<1.27,>=1.21.1 in /usr/local/lib/python3.10/dist-packages (from requests->autoscraper) (1.26.15)\n",
            "Requirement already satisfied: certifi>=2017.4.17 in /usr/local/lib/python3.10/dist-packages (from requests->autoscraper) (2022.12.7)\n",
            "Requirement already satisfied: charset-normalizer~=2.0.0 in /usr/local/lib/python3.10/dist-packages (from requests->autoscraper) (2.0.12)\n",
            "Requirement already satisfied: idna<4,>=2.5 in /usr/local/lib/python3.10/dist-packages (from requests->autoscraper) (3.4)\n",
            "Requirement already satisfied: soupsieve>1.2 in /usr/local/lib/python3.10/dist-packages (from beautifulsoup4->bs4->autoscraper) (2.4.1)\n",
            "Building wheels for collected packages: bs4\n",
            "  Building wheel for bs4 (setup.py) ... \u001b[?25l\u001b[?25hdone\n",
            "  Created wheel for bs4: filename=bs4-0.0.1-py3-none-any.whl size=1257 sha256=3140abab6b7839d84dc10f8170f000c4713e23ce254d2836b0d0cd5953f1db7c\n",
            "  Stored in directory: /root/.cache/pip/wheels/25/42/45/b773edc52acb16cd2db4cf1a0b47117e2f69bb4eb300ed0e70\n",
            "Successfully built bs4\n",
            "Installing collected packages: bs4, autoscraper\n",
            "Successfully installed autoscraper-1.1.14 bs4-0.0.1\n"
          ]
        }
      ],
      "source": [
        "!pip install autoscraper"
      ]
    },
    {
      "cell_type": "code",
      "source": [
        "from autoscraper import AutoScraper\n"
      ],
      "metadata": {
        "id": "sQ82E7Upqk_w"
      },
      "execution_count": null,
      "outputs": []
    },
    {
      "cell_type": "code",
      "source": [
        "amazon_url=\"https://www.amazon.in/s?k=samsung+mobile&crid=GKGWALV8AAKL&sprefix=sams%2Caps%2C581&ref=nb_sb_ss_ts-doa-\"\n",
        "\n",
        "wanted_list=[\"₹8,749\",\"Samsung Galaxy M04 Dark Blue, 4GB RAM, 128GB Storage | Upto 8GB RAM with RAM Plus | MediaTek Helio P35 Octa-core Processor | 5000 mAh Battery | 13MP Dual Camera\"]"
      ],
      "metadata": {
        "id": "MRlaXxPiqr51"
      },
      "execution_count": null,
      "outputs": []
    },
    {
      "cell_type": "code",
      "source": [
        "scraper=AutoScraper()\n",
        "result=scraper.build(amazon_url,wanted_list)\n",
        "print(result)"
      ],
      "metadata": {
        "colab": {
          "base_uri": "https://localhost:8080/"
        },
        "id": "yD15t0sMt7O6",
        "outputId": "23da63bb-3111-4566-bf01-f07fcceae34d"
      },
      "execution_count": null,
      "outputs": [
        {
          "output_type": "stream",
          "name": "stdout",
          "text": [
            "['₹8,749', '₹15,499', '₹16,999', '₹14,990', '₹13,990', '₹7,749', '₹29,990', '₹13,499', '₹9,699', '₹12,999', 'Samsung Galaxy M04 Dark Blue, 4GB RAM, 128GB Storage | Upto 8GB RAM with RAM Plus | MediaTek Helio P35 Octa-core Processor | 5000 mAh Battery | 13MP Dual Camera', 'Samsung Galaxy M33 5G (Mystique Green, 6GB, 128GB Storage) | 6000mAh Battery | Upto 12GB RAM with RAM Plus | Without Charger', 'Amazon\\'s Choicefor \"samsung mobile\"', 'Samsung Galaxy M33 5G (Deep Ocean Blue, 8GB, 128GB Storage) | 6000mAh Battery | Upto 16GB RAM with RAM Plus | Without Charger', 'Samsung Galaxy M14 5G (Smoky Teal, 6GB, 128GB Storage) | 50MP Triple Cam | 6000 mAh Battery | 5nm Octa-Core Processor | 12GB RAM with RAM Plus | Android 13 | Without Charger', 'Samsung Galaxy M04 Light Green, 4GB RAM, 128GB Storage | Upto 8GB RAM with RAM Plus | MediaTek Helio P35 Octa-core Processor | 5000 mAh Battery | 13MP Dual Camera', 'Samsung Galaxy M33 5G (Deep Ocean Blue, 6GB, 128GB Storage) | 6000mAh Battery | Upto 12GB RAM with RAM Plus | Without Charger', 'Samsung Galaxy M33 5G (Mystique Green, 8GB, 128GB Storage) | 6000mAh Battery | Upto 16GB RAM with RAM Plus | Without Charger', 'Samsung Galaxy M14 5G (ICY Silver, 4GB, 128GB Storage) | 50MP Triple Cam | 6000 mAh Battery | 5nm Octa-Core Processor | Android 13 | Without Charger', 'Samsung Galaxy M04 Light Green, 4GB RAM, 64GB Storage | Upto 8GB RAM with RAM Plus | MediaTek Helio P35 Octa-core Processor | 5000 mAh Battery | 13MP Dual Camera', 'Samsung Galaxy M33 5G (Emerald Brown, 6GB, 128GB Storage) | 6000mAh Battery | Upto 12GB RAM with RAM Plus | Without Charger', 'Samsung Galaxy S20 FE 5G (Cloud Mint, 8GB RAM, 128GB Storage)', 'Samsung Galaxy M13 5G (Aqua Green, 6GB, 128GB Storage) | 5000mAh Battery | Upto 12GB RAM with RAM Plus', 'Samsung Galaxy M13 (Midnight Blue, 4GB, 64GB Storage) | 6000mAh Battery | Upto 8GB RAM with RAM Plus', 'Samsung Galaxy M14 5G (Berry Blue, 6GB, 128GB Storage) | 50MP Triple Cam | 6000 mAh Battery | 5nm Octa-Core Processor | 12GB RAM with RAM Plus | Android 13 | Without Charger', 'Samsung Galaxy M04 Dark Blue, 4GB RAM, 64GB Storage | Upto 8GB RAM with RAM Plus | MediaTek Helio P35 Octa-core Processor | 5000 mAh Battery | 13MP Dual Camera', 'Samsung Galaxy M13 (Midnight Blue, 6GB, 128GB Storage) | 6000mAh Battery | Upto 12GB RAM with RAM Plus']\n"
          ]
        }
      ]
    },
    {
      "cell_type": "code",
      "source": [
        "scraper.get_result_similar(amazon_url,grouped=True)\n"
      ],
      "metadata": {
        "colab": {
          "base_uri": "https://localhost:8080/"
        },
        "id": "UYTbxaCCt_n0",
        "outputId": "74052444-861a-4121-b0a0-6de9a872e842"
      },
      "execution_count": null,
      "outputs": [
        {
          "output_type": "execute_result",
          "data": {
            "text/plain": [
              "{'rule_vl8e': ['₹8,749',\n",
              "  '₹15,499',\n",
              "  '₹16,999',\n",
              "  '₹14,990',\n",
              "  '₹8,749',\n",
              "  '₹15,499',\n",
              "  '₹16,999',\n",
              "  '₹13,990',\n",
              "  '₹7,749',\n",
              "  '₹15,499',\n",
              "  '₹29,990',\n",
              "  '₹13,499',\n",
              "  '₹9,699',\n",
              "  '₹14,990',\n",
              "  '₹7,749',\n",
              "  '₹12,999'],\n",
              " 'rule_m34m': ['₹8,749',\n",
              "  '₹15,499',\n",
              "  '₹16,999',\n",
              "  '₹14,990',\n",
              "  '₹8,749',\n",
              "  '₹15,499',\n",
              "  '₹16,999',\n",
              "  '₹13,990',\n",
              "  '₹7,749',\n",
              "  '₹15,499',\n",
              "  '₹29,990',\n",
              "  '₹13,499',\n",
              "  '₹9,699',\n",
              "  '₹14,990',\n",
              "  '₹7,749',\n",
              "  '₹12,999'],\n",
              " 'rule_ytwm': ['₹8,749',\n",
              "  '₹15,499',\n",
              "  '₹16,999',\n",
              "  '₹14,990',\n",
              "  '₹8,749',\n",
              "  '₹15,499',\n",
              "  '₹16,999',\n",
              "  '₹13,990',\n",
              "  '₹7,749',\n",
              "  '₹15,499',\n",
              "  '₹29,990',\n",
              "  '₹13,499',\n",
              "  '₹9,699',\n",
              "  '₹14,990',\n",
              "  '₹7,749',\n",
              "  '₹12,999'],\n",
              " 'rule_cr3y': ['₹8,749',\n",
              "  '₹15,499',\n",
              "  '₹16,999',\n",
              "  '₹14,990',\n",
              "  '₹8,749',\n",
              "  '₹15,499',\n",
              "  '₹16,999',\n",
              "  '₹13,990',\n",
              "  '₹7,749',\n",
              "  '₹15,499',\n",
              "  '₹29,990',\n",
              "  '₹13,499',\n",
              "  '₹9,699',\n",
              "  '₹14,990',\n",
              "  '₹7,749',\n",
              "  '₹12,999'],\n",
              " 'rule_1zrz': ['Samsung Galaxy M04 Dark Blue, 4GB RAM, 128GB Storage | Upto 8GB RAM with RAM Plus | MediaTek Helio P35 Octa-core Processor | 5000 mAh Battery | 13MP Dual Camera',\n",
              "  'Samsung Galaxy M33 5G (Mystique Green, 6GB, 128GB Storage) | 6000mAh Battery | Upto 12GB RAM with RAM Plus | Without Charger',\n",
              "  'Amazon\\'s Choicefor \"samsung mobile\"',\n",
              "  'Samsung Galaxy M33 5G (Deep Ocean Blue, 8GB, 128GB Storage) | 6000mAh Battery | Upto 16GB RAM with RAM Plus | Without Charger',\n",
              "  'Samsung Galaxy M14 5G (Smoky Teal, 6GB, 128GB Storage) | 50MP Triple Cam | 6000 mAh Battery | 5nm Octa-Core Processor | 12GB RAM with RAM Plus | Android 13 | Without Charger',\n",
              "  'Samsung Galaxy M04 Light Green, 4GB RAM, 128GB Storage | Upto 8GB RAM with RAM Plus | MediaTek Helio P35 Octa-core Processor | 5000 mAh Battery | 13MP Dual Camera',\n",
              "  'Samsung Galaxy M33 5G (Deep Ocean Blue, 6GB, 128GB Storage) | 6000mAh Battery | Upto 12GB RAM with RAM Plus | Without Charger',\n",
              "  'Samsung Galaxy M33 5G (Mystique Green, 8GB, 128GB Storage) | 6000mAh Battery | Upto 16GB RAM with RAM Plus | Without Charger',\n",
              "  'Samsung Galaxy M14 5G (ICY Silver, 4GB, 128GB Storage) | 50MP Triple Cam | 6000 mAh Battery | 5nm Octa-Core Processor | Android 13 | Without Charger',\n",
              "  'Samsung Galaxy M04 Light Green, 4GB RAM, 64GB Storage | Upto 8GB RAM with RAM Plus | MediaTek Helio P35 Octa-core Processor | 5000 mAh Battery | 13MP Dual Camera',\n",
              "  'Samsung Galaxy M33 5G (Emerald Brown, 6GB, 128GB Storage) | 6000mAh Battery | Upto 12GB RAM with RAM Plus | Without Charger',\n",
              "  'Samsung Galaxy S20 FE 5G (Cloud Mint, 8GB RAM, 128GB Storage)',\n",
              "  'Samsung Galaxy M13 5G (Aqua Green, 6GB, 128GB Storage) | 5000mAh Battery | Upto 12GB RAM with RAM Plus',\n",
              "  'Samsung Galaxy M13 (Midnight Blue, 4GB, 64GB Storage) | 6000mAh Battery | Upto 8GB RAM with RAM Plus',\n",
              "  'Samsung Galaxy M14 5G (Berry Blue, 6GB, 128GB Storage) | 50MP Triple Cam | 6000 mAh Battery | 5nm Octa-Core Processor | 12GB RAM with RAM Plus | Android 13 | Without Charger',\n",
              "  'Samsung Galaxy M04 Dark Blue, 4GB RAM, 64GB Storage | Upto 8GB RAM with RAM Plus | MediaTek Helio P35 Octa-core Processor | 5000 mAh Battery | 13MP Dual Camera',\n",
              "  'Samsung Galaxy M13 (Midnight Blue, 6GB, 128GB Storage) | 6000mAh Battery | Upto 12GB RAM with RAM Plus']}"
            ]
          },
          "metadata": {},
          "execution_count": 9
        }
      ]
    },
    {
      "cell_type": "code",
      "source": [
        "scraper.set_rule_aliases({'rule_1zrz':'Title','rule_vl8e':'Price'})\n",
        "scraper.keep_rules(['rule_1zrz','rule_vl8e'])\n",
        "scraper.save('amazon-search')"
      ],
      "metadata": {
        "id": "TD9xgTBQuHqr"
      },
      "execution_count": null,
      "outputs": []
    },
    {
      "cell_type": "code",
      "source": [
        "results=scraper.get_result_similar('https://www.amazon.in/s?k=iphone+mobile&crid=7IHW3NZVMB87&sprefix=iph+mobile%2Caps%2C489&ref=nb_sb_ss_sc_2_13',group_by_alias=True)\n"
      ],
      "metadata": {
        "id": "IZgMSia2uZOR"
      },
      "execution_count": null,
      "outputs": []
    },
    {
      "cell_type": "code",
      "source": [
        "results['Price']\n"
      ],
      "metadata": {
        "colab": {
          "base_uri": "https://localhost:8080/"
        },
        "id": "Sv9yUmqavDG_",
        "outputId": "c58dad2a-8658-4819-a0a2-e85b2787f669"
      },
      "execution_count": null,
      "outputs": [
        {
          "output_type": "execute_result",
          "data": {
            "text/plain": [
              "['₹67,999',\n",
              " '₹53,999',\n",
              " '₹67,999',\n",
              " '₹76,999',\n",
              " '₹67,999',\n",
              " '₹1,49,900',\n",
              " '₹59,990',\n",
              " '₹1,19,999',\n",
              " '₹69,999',\n",
              " '₹68,999',\n",
              " '₹86,999',\n",
              " '₹97,999',\n",
              " '₹86,999',\n",
              " '₹76,999',\n",
              " '₹1,06,999',\n",
              " '₹59,900']"
            ]
          },
          "metadata": {},
          "execution_count": 15
        }
      ]
    },
    {
      "cell_type": "code",
      "source": [
        "amazon_url=\"https://play.google.com/store/games\"\n",
        "\n",
        "wanted_list=[\"Battlegrounds Mobile India\",\"50M+\"]"
      ],
      "metadata": {
        "id": "82a-01SRvGZf"
      },
      "execution_count": null,
      "outputs": []
    },
    {
      "cell_type": "code",
      "source": [
        "scraper=AutoScraper()\n",
        "result=scraper.build(amazon_url,wanted_list)\n",
        "print(result)"
      ],
      "metadata": {
        "colab": {
          "base_uri": "https://localhost:8080/"
        },
        "id": "wr69pCn3OF9E",
        "outputId": "47ecadea-c3d4-487c-e89f-6eb0d3b9626d"
      },
      "execution_count": null,
      "outputs": [
        {
          "output_type": "stream",
          "name": "stdout",
          "text": [
            "[]\n"
          ]
        }
      ]
    },
    {
      "cell_type": "code",
      "source": [
        "!pip install google-play-scraper"
      ],
      "metadata": {
        "colab": {
          "base_uri": "https://localhost:8080/"
        },
        "id": "BXFNxoi-OG6-",
        "outputId": "8b13ef8f-51fd-45cf-825d-55f6a84d7fbb"
      },
      "execution_count": null,
      "outputs": [
        {
          "output_type": "stream",
          "name": "stdout",
          "text": [
            "Looking in indexes: https://pypi.org/simple, https://us-python.pkg.dev/colab-wheels/public/simple/\n",
            "Collecting google-play-scraper\n",
            "  Downloading google_play_scraper-1.2.4-py3-none-any.whl (28 kB)\n",
            "Installing collected packages: google-play-scraper\n",
            "Successfully installed google-play-scraper-1.2.4\n"
          ]
        }
      ]
    },
    {
      "cell_type": "code",
      "source": [
        "from google_play_scraper import Sort, reviews_all, reviews, app\n",
        "import pandas as pd\n",
        "import numpy as np"
      ],
      "metadata": {
        "id": "jOiKSGCuSz9N"
      },
      "execution_count": null,
      "outputs": []
    },
    {
      "cell_type": "code",
      "source": [
        "result = reviews_all(\n",
        "    'com.twitter.android',\n",
        "    sleep_milliseconds=0, # defaults to 0\n",
        "    lang='id',            # defaults to 'en'\n",
        "    country='id',         # defaults to 'us'\n",
        "    sort=Sort.NEWEST,     # defaults to Sort.MOST_RELEVANT , you can use Sort.NEWEST to get newst reviews\n",
        ")"
      ],
      "metadata": {
        "id": "1sbqyQGaS32-"
      },
      "execution_count": null,
      "outputs": []
    },
    {
      "cell_type": "code",
      "source": [
        "result, continuation_token = reviews(\n",
        "    'com.facebook.katana',\n",
        "    lang='id',                # defaults to 'en'\n",
        "    country='id',             # defaults to 'us'\n",
        "    sort=Sort.MOST_RELEVANT,  # defaults to Sort.MOST_RELEVANT you can use Sort.NEWEST to get newst reviews\n",
        "    count=500,               # defaults to 100\n",
        "    filter_score_with=None    # defaults to None(means all score) Use 1 or 2 or 3 or 4 or 5 to select certain score\n",
        ")"
      ],
      "metadata": {
        "id": "wJTWqgqYS_nz"
      },
      "execution_count": null,
      "outputs": []
    }
  ]
}